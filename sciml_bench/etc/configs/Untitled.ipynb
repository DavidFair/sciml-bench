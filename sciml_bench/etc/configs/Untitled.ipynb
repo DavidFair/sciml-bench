{
 "cells": [
  {
   "cell_type": "code",
   "execution_count": 84,
   "id": "173cec30",
   "metadata": {},
   "outputs": [],
   "source": [
    "import yaml\n",
    "from pathlib import Path"
   ]
  },
  {
   "cell_type": "code",
   "execution_count": 85,
   "id": "44bcbc3a",
   "metadata": {},
   "outputs": [],
   "source": [
    " with open('config.yml') as handle:\n",
    "            cfg = yaml.load(handle, yaml.SafeLoader)\n",
    "            cfg = {} if cfg is None else cfg"
   ]
  },
  {
   "cell_type": "code",
   "execution_count": 86,
   "id": "4ee7da4a",
   "metadata": {},
   "outputs": [
    {
     "data": {
      "text/plain": [
       "{'data_mirrors': {'stfc_mirror': 'https://s3.echo.stfc.ac.uk',\n",
       "  'osn_mirror': 'https://sdsc.osn.xsede.org'},\n",
       " 'download_commands': {'download_command1': 'aws s3 --no-sign-request --endpoint-url $SERVER sync $DATASET_URI $DATASET_DIR'},\n",
       " 'directories': {'dataset_root_dir': '~/sciml_bench/datasets',\n",
       "  'output_root_dir': '~/sciml_bench/outputs',\n",
       "  'models_dir': '~/sciml_bench/models'},\n",
       " 'datasets': {'mnist': {'is_example': True, 'end_point': 'sciml-datasets/ts'},\n",
       "  'em_graphene_sim': {'end_point': 'sciml-datasets/ms',\n",
       "   'download_command': 'download_command1'},\n",
       "  'dms_sim': {'end_point': 'sciml-datasets/ms',\n",
       "   'download_command': 'download_command1'},\n",
       "  'slstr_cloud_ds1': {'end_point': 'sciml-datasets/es',\n",
       "   'download_command': 'download_command1'},\n",
       "  'slstr_cloud_ds2': {'end_point': 'sciml-datasets/es',\n",
       "   'download_command': 'download_command1'}},\n",
       " 'benchmarks': {'mnist_tf_keras': {'datasets': 'mnist',\n",
       "   'is_example': True,\n",
       "   'dependencies': 'tensorflow',\n",
       "   'type': 'training, inference'},\n",
       "  'mnist_torch': {'datasets': 'mnist',\n",
       "   'is_example': True,\n",
       "   'dependencies': 'torch,horovod.torch'},\n",
       "  'em_denoise': {'datasets': 'em_graphene_sim',\n",
       "   'dependencies': 'mxnet-cu102',\n",
       "   'type': 'training'},\n",
       "  'dms_structure': {'datasets': 'dms_sim',\n",
       "   'dependencies': 'torch',\n",
       "   'type': 'training, inference'},\n",
       "  'slstr_cloud': {'datasets': 'slstr_cloud_ds1,slstr_cloud_ds2',\n",
       "   'dependencies': 'tensorflow,scikit-learn,horovod.tensorflow',\n",
       "   'type': 'training, inference'}}}"
      ]
     },
     "execution_count": 86,
     "metadata": {},
     "output_type": "execute_result"
    }
   ],
   "source": [
    "cfg"
   ]
  },
  {
   "cell_type": "code",
   "execution_count": 87,
   "id": "b9ccf5bd",
   "metadata": {},
   "outputs": [],
   "source": [
    "benchmarks = cfg['benchmarks']"
   ]
  },
  {
   "cell_type": "code",
   "execution_count": 5,
   "id": "7ba25285",
   "metadata": {},
   "outputs": [
    {
     "data": {
      "text/plain": [
       "{'mnist_tf_keras': {'datasets': 'mnist',\n",
       "  'is_example': True,\n",
       "  'dependencies': 'tensorflow'},\n",
       " 'mnist_torch': {'datasets': 'mnist',\n",
       "  'is_example': True,\n",
       "  'dependencies': 'torch,horovod.torch'},\n",
       " 'em_denoise': {'datasets': 'em_graphene_sim', 'dependencies': 'mxnet-cu102'},\n",
       " 'dms_structure': {'datasets': 'dms_sim', 'dependencies': 'torch'},\n",
       " 'slstr_cloud': {'datasets': 'slstr_cloud_ds1',\n",
       "  'dependencies': 'tensorflow,scikit-learn,horovod.tensorflow'}}"
      ]
     },
     "execution_count": 5,
     "metadata": {},
     "output_type": "execute_result"
    }
   ],
   "source": [
    "benchmarks"
   ]
  },
  {
   "cell_type": "code",
   "execution_count": 23,
   "id": "8ce7d7c2",
   "metadata": {},
   "outputs": [
    {
     "name": "stdout",
     "output_type": "stream",
     "text": [
      "tensorflow\n",
      "torch,horovod.torch\n",
      "mxnet-cu102\n",
      "torch\n",
      "tensorflow,scikit-learn,horovod.tensorflow\n"
     ]
    }
   ],
   "source": [
    "for k,v in benchmarks.items():\n",
    "    print(v['dependencies'])"
   ]
  },
  {
   "cell_type": "code",
   "execution_count": 24,
   "id": "7a7e3ef1",
   "metadata": {},
   "outputs": [
    {
     "ename": "AttributeError",
     "evalue": "'dict' object has no attribute 'output_dir'",
     "output_type": "error",
     "traceback": [
      "\u001b[0;31m---------------------------------------------------------------------------\u001b[0m",
      "\u001b[0;31mAttributeError\u001b[0m                            Traceback (most recent call last)",
      "\u001b[0;32m<ipython-input-24-4ef90d51d462>\u001b[0m in \u001b[0;36m<module>\u001b[0;34m\u001b[0m\n\u001b[0;32m----> 1\u001b[0;31m \u001b[0mcfg\u001b[0m\u001b[0;34m.\u001b[0m\u001b[0moutput_dir\u001b[0m\u001b[0;34m\u001b[0m\u001b[0;34m\u001b[0m\u001b[0m\n\u001b[0m",
      "\u001b[0;31mAttributeError\u001b[0m: 'dict' object has no attribute 'output_dir'"
     ]
    }
   ],
   "source": [
    "cfg.output_dir"
   ]
  },
  {
   "cell_type": "code",
   "execution_count": 27,
   "id": "21452d9c",
   "metadata": {},
   "outputs": [
    {
     "ename": "AttributeError",
     "evalue": "'dict' object has no attribute 'output_root_dir'",
     "output_type": "error",
     "traceback": [
      "\u001b[0;31m---------------------------------------------------------------------------\u001b[0m",
      "\u001b[0;31mAttributeError\u001b[0m                            Traceback (most recent call last)",
      "\u001b[0;32m<ipython-input-27-32fe9d560bda>\u001b[0m in \u001b[0;36m<module>\u001b[0;34m\u001b[0m\n\u001b[0;32m----> 1\u001b[0;31m \u001b[0mcfg\u001b[0m\u001b[0;34m.\u001b[0m\u001b[0moutput_root_dir\u001b[0m\u001b[0;34m\u001b[0m\u001b[0;34m\u001b[0m\u001b[0m\n\u001b[0m",
      "\u001b[0;31mAttributeError\u001b[0m: 'dict' object has no attribute 'output_root_dir'"
     ]
    }
   ],
   "source": [
    "cfg.output_root_dir"
   ]
  },
  {
   "cell_type": "code",
   "execution_count": 30,
   "id": "09ae0f65",
   "metadata": {},
   "outputs": [],
   "source": [
    "cfg_dirs = cfg['directories']\n",
    "dataset_dir = Path(cfg_dirs['dataset_root_dir']).expanduser()\n",
    "output_dir  = Path(cfg_dirs['output_root_dir']).expanduser()\n",
    "model_dir   = Path(cfg_dirs['models_dir']).expanduser()"
   ]
  },
  {
   "cell_type": "code",
   "execution_count": 31,
   "id": "842215dc",
   "metadata": {},
   "outputs": [
    {
     "data": {
      "text/plain": [
       "PosixPath('/Users/jeyan/sciml_bench/outputs')"
      ]
     },
     "execution_count": 31,
     "metadata": {},
     "output_type": "execute_result"
    }
   ],
   "source": [
    "output_dir"
   ]
  },
  {
   "cell_type": "code",
   "execution_count": 33,
   "id": "478fecba",
   "metadata": {},
   "outputs": [],
   "source": [
    "log_path = output_dir  / 'install_logs/install/' \n"
   ]
  },
  {
   "cell_type": "code",
   "execution_count": 34,
   "id": "fab2055f",
   "metadata": {},
   "outputs": [],
   "source": [
    "from datetime import datetime"
   ]
  },
  {
   "cell_type": "code",
   "execution_count": 35,
   "id": "137d21d0",
   "metadata": {},
   "outputs": [],
   "source": [
    "from pathlib import Path"
   ]
  },
  {
   "cell_type": "code",
   "execution_count": 52,
   "id": "d94eb66b",
   "metadata": {},
   "outputs": [],
   "source": [
    "log_file = str(output_dir  / 'install_logs'  ) + \\\n",
    "                                '/install_' + \\\n",
    "                                datetime.today().strftime('%Y%m%d') + \\\n",
    "                                '.log'"
   ]
  },
  {
   "cell_type": "code",
   "execution_count": 53,
   "id": "1275dfce",
   "metadata": {},
   "outputs": [
    {
     "data": {
      "text/plain": [
       "'/Users/jeyan/sciml_bench/outputs/install_logs/install_20210604.log'"
      ]
     },
     "execution_count": 53,
     "metadata": {},
     "output_type": "execute_result"
    }
   ],
   "source": [
    "log_file"
   ]
  },
  {
   "cell_type": "code",
   "execution_count": 55,
   "id": "ad47c664",
   "metadata": {},
   "outputs": [],
   "source": [
    "log_file_dir = output_dir  / 'install_logs'\n"
   ]
  },
  {
   "cell_type": "code",
   "execution_count": 56,
   "id": "77f08a85",
   "metadata": {},
   "outputs": [],
   "source": [
    "log_file_dir.mkdir(parents=True, exist_ok=True)\n",
    "log_file = str(log_file_dir) + '/install_' + \\\n",
    "                                datetime.today().strftime('%Y%m%d') + \\\n",
    "                                '.log'"
   ]
  },
  {
   "cell_type": "code",
   "execution_count": 57,
   "id": "22fb1d6c",
   "metadata": {},
   "outputs": [
    {
     "data": {
      "text/plain": [
       "'/Users/jeyan/sciml_bench/outputs/install_logs/install_20210604.log'"
      ]
     },
     "execution_count": 57,
     "metadata": {},
     "output_type": "execute_result"
    }
   ],
   "source": [
    "log_file"
   ]
  },
  {
   "cell_type": "code",
   "execution_count": 93,
   "id": "7679a380",
   "metadata": {},
   "outputs": [
    {
     "name": "stdout",
     "output_type": "stream",
     "text": [
      "datasets\n",
      "mnist\n",
      "is_example\n",
      "True\n"
     ]
    },
    {
     "ename": "AttributeError",
     "evalue": "'bool' object has no attribute 'split'",
     "output_type": "error",
     "traceback": [
      "\u001b[0;31m---------------------------------------------------------------------------\u001b[0m",
      "\u001b[0;31mAttributeError\u001b[0m                            Traceback (most recent call last)",
      "\u001b[0;32m<ipython-input-93-60c7da8c9b75>\u001b[0m in \u001b[0;36m<module>\u001b[0;34m\u001b[0m\n\u001b[1;32m      9\u001b[0m         \u001b[0mbench_datasets\u001b[0m \u001b[0;34m=\u001b[0m \u001b[0mlist\u001b[0m\u001b[0;34m(\u001b[0m\u001b[0mset\u001b[0m\u001b[0;34m(\u001b[0m\u001b[0mfilter\u001b[0m\u001b[0;34m(\u001b[0m\u001b[0;34m''\u001b[0m\u001b[0;34m.\u001b[0m\u001b[0m__ne__\u001b[0m\u001b[0;34m,\u001b[0m \u001b[0mv\u001b[0m\u001b[0;34m.\u001b[0m\u001b[0msplit\u001b[0m\u001b[0;34m(\u001b[0m\u001b[0;34m','\u001b[0m\u001b[0;34m)\u001b[0m\u001b[0;34m)\u001b[0m\u001b[0;34m)\u001b[0m\u001b[0;34m)\u001b[0m\u001b[0;34m\u001b[0m\u001b[0;34m\u001b[0m\u001b[0m\n\u001b[1;32m     10\u001b[0m     \u001b[0;32mif\u001b[0m \u001b[0mk\u001b[0m \u001b[0;34m==\u001b[0m \u001b[0;34m'is_example'\u001b[0m\u001b[0;34m:\u001b[0m\u001b[0;34m\u001b[0m\u001b[0;34m\u001b[0m\u001b[0m\n\u001b[0;32m---> 11\u001b[0;31m         \u001b[0mprint\u001b[0m\u001b[0;34m(\u001b[0m\u001b[0mlist\u001b[0m\u001b[0;34m(\u001b[0m\u001b[0mset\u001b[0m\u001b[0;34m(\u001b[0m\u001b[0mfilter\u001b[0m\u001b[0;34m(\u001b[0m\u001b[0;34m''\u001b[0m\u001b[0;34m.\u001b[0m\u001b[0m__ne__\u001b[0m\u001b[0;34m,\u001b[0m \u001b[0mv\u001b[0m\u001b[0;34m.\u001b[0m\u001b[0msplit\u001b[0m\u001b[0;34m(\u001b[0m\u001b[0;34m','\u001b[0m\u001b[0;34m)\u001b[0m\u001b[0;34m)\u001b[0m\u001b[0;34m)\u001b[0m\u001b[0;34m)\u001b[0m\u001b[0;34m)\u001b[0m\u001b[0;34m\u001b[0m\u001b[0;34m\u001b[0m\u001b[0m\n\u001b[0m",
      "\u001b[0;31mAttributeError\u001b[0m: 'bool' object has no attribute 'split'"
     ]
    }
   ],
   "source": [
    "bench_deps=[]\n",
    "bench_datasets = []\n",
    "for k, v in benchmarks['mnist_tf_keras'].items():\n",
    "    print(k)\n",
    "    print(v)\n",
    "    if k=='dependencies':\n",
    "        bench_deps = list(filter(''.__ne__, v.split(',')))\n",
    "    if k=='datasets':\n",
    "        bench_datasets = list(set(filter(''.__ne__, v.split(','))))\n",
    "    if k == 'is_example':\n",
    "        print(list(set(filter(''.__ne__, v.split(',')))))"
   ]
  },
  {
   "cell_type": "code",
   "execution_count": 102,
   "id": "459b3eff",
   "metadata": {},
   "outputs": [],
   "source": [
    "mnist_items = benchmarks['mnist_tf_keras']"
   ]
  },
  {
   "cell_type": "code",
   "execution_count": 104,
   "id": "2a3b63b1",
   "metadata": {},
   "outputs": [
    {
     "ename": "KeyError",
     "evalue": "'Q'",
     "output_type": "error",
     "traceback": [
      "\u001b[0;31m---------------------------------------------------------------------------\u001b[0m",
      "\u001b[0;31mKeyError\u001b[0m                                  Traceback (most recent call last)",
      "\u001b[0;32m<ipython-input-104-85e61cc527c7>\u001b[0m in \u001b[0;36m<module>\u001b[0;34m\u001b[0m\n\u001b[0;32m----> 1\u001b[0;31m \u001b[0mmnist_items\u001b[0m\u001b[0;34m[\u001b[0m\u001b[0;34m'Q'\u001b[0m\u001b[0;34m]\u001b[0m\u001b[0;34m\u001b[0m\u001b[0;34m\u001b[0m\u001b[0m\n\u001b[0m",
      "\u001b[0;31mKeyError\u001b[0m: 'Q'"
     ]
    }
   ],
   "source": [
    "mnist_items['Q']"
   ]
  },
  {
   "cell_type": "code",
   "execution_count": 81,
   "id": "5885682e",
   "metadata": {},
   "outputs": [
    {
     "data": {
      "text/plain": [
       "{'x', 'y'}"
      ]
     },
     "execution_count": 81,
     "metadata": {},
     "output_type": "execute_result"
    }
   ],
   "source": [
    "set({'x','y', 'x'})"
   ]
  },
  {
   "cell_type": "code",
   "execution_count": null,
   "id": "32afb16e",
   "metadata": {},
   "outputs": [],
   "source": []
  }
 ],
 "metadata": {
  "kernelspec": {
   "display_name": "Python 3",
   "language": "python",
   "name": "python3"
  },
  "language_info": {
   "codemirror_mode": {
    "name": "ipython",
    "version": 3
   },
   "file_extension": ".py",
   "mimetype": "text/x-python",
   "name": "python",
   "nbconvert_exporter": "python",
   "pygments_lexer": "ipython3",
   "version": "3.8.8"
  }
 },
 "nbformat": 4,
 "nbformat_minor": 5
}
